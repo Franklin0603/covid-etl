{
 "cells": [
  {
   "cell_type": "code",
   "execution_count": 44,
   "id": "ca0941e4",
   "metadata": {},
   "outputs": [],
   "source": [
    "import io \n",
    "from pathlib import Path\n",
    "import pandas as pd\n",
    "import requests "
   ]
  },
  {
   "cell_type": "markdown",
   "id": "f78f24c4",
   "metadata": {},
   "source": [
    "### csv_from_get_request_github"
   ]
  },
  {
   "cell_type": "code",
   "execution_count": 16,
   "id": "e17ea024",
   "metadata": {},
   "outputs": [],
   "source": [
    "url ='https://raw.githubusercontent.com/nytimes/covid-19-data/master/us-counties.csv'\n",
    "r = requests.get(url)\n",
    "# returns an HTTPError object if an error has occurred during the process\n",
    "r.raise_for_status()"
   ]
  },
  {
   "cell_type": "code",
   "execution_count": 15,
   "id": "b38cacb7",
   "metadata": {},
   "outputs": [],
   "source": [
    "#  df = pd.read_csv(io.StringIO(data), low_memory=False)unicode string => (u\"And the Hipâ€™s coming, too\")\n",
    "data = r.content.decode('utf-8')"
   ]
  },
  {
   "cell_type": "code",
   "execution_count": 17,
   "id": "dcee12c1",
   "metadata": {},
   "outputs": [],
   "source": [
    "df = pd.read_csv(io.StringIO(data), low_memory=False)"
   ]
  },
  {
   "cell_type": "code",
   "execution_count": 19,
   "id": "4a981f07",
   "metadata": {},
   "outputs": [
    {
     "data": {
      "text/html": [
       "<div>\n",
       "<style scoped>\n",
       "    .dataframe tbody tr th:only-of-type {\n",
       "        vertical-align: middle;\n",
       "    }\n",
       "\n",
       "    .dataframe tbody tr th {\n",
       "        vertical-align: top;\n",
       "    }\n",
       "\n",
       "    .dataframe thead th {\n",
       "        text-align: right;\n",
       "    }\n",
       "</style>\n",
       "<table border=\"1\" class=\"dataframe\">\n",
       "  <thead>\n",
       "    <tr style=\"text-align: right;\">\n",
       "      <th></th>\n",
       "      <th>date</th>\n",
       "      <th>county</th>\n",
       "      <th>state</th>\n",
       "      <th>fips</th>\n",
       "      <th>cases</th>\n",
       "      <th>deaths</th>\n",
       "    </tr>\n",
       "  </thead>\n",
       "  <tbody>\n",
       "    <tr>\n",
       "      <th>0</th>\n",
       "      <td>2020-01-21</td>\n",
       "      <td>Snohomish</td>\n",
       "      <td>Washington</td>\n",
       "      <td>53061.0</td>\n",
       "      <td>1</td>\n",
       "      <td>0.0</td>\n",
       "    </tr>\n",
       "    <tr>\n",
       "      <th>1</th>\n",
       "      <td>2020-01-22</td>\n",
       "      <td>Snohomish</td>\n",
       "      <td>Washington</td>\n",
       "      <td>53061.0</td>\n",
       "      <td>1</td>\n",
       "      <td>0.0</td>\n",
       "    </tr>\n",
       "    <tr>\n",
       "      <th>2</th>\n",
       "      <td>2020-01-23</td>\n",
       "      <td>Snohomish</td>\n",
       "      <td>Washington</td>\n",
       "      <td>53061.0</td>\n",
       "      <td>1</td>\n",
       "      <td>0.0</td>\n",
       "    </tr>\n",
       "    <tr>\n",
       "      <th>3</th>\n",
       "      <td>2020-01-24</td>\n",
       "      <td>Cook</td>\n",
       "      <td>Illinois</td>\n",
       "      <td>17031.0</td>\n",
       "      <td>1</td>\n",
       "      <td>0.0</td>\n",
       "    </tr>\n",
       "    <tr>\n",
       "      <th>4</th>\n",
       "      <td>2020-01-24</td>\n",
       "      <td>Snohomish</td>\n",
       "      <td>Washington</td>\n",
       "      <td>53061.0</td>\n",
       "      <td>1</td>\n",
       "      <td>0.0</td>\n",
       "    </tr>\n",
       "  </tbody>\n",
       "</table>\n",
       "</div>"
      ],
      "text/plain": [
       "         date     county       state     fips  cases  deaths\n",
       "0  2020-01-21  Snohomish  Washington  53061.0      1     0.0\n",
       "1  2020-01-22  Snohomish  Washington  53061.0      1     0.0\n",
       "2  2020-01-23  Snohomish  Washington  53061.0      1     0.0\n",
       "3  2020-01-24       Cook    Illinois  17031.0      1     0.0\n",
       "4  2020-01-24  Snohomish  Washington  53061.0      1     0.0"
      ]
     },
     "execution_count": 19,
     "metadata": {},
     "output_type": "execute_result"
    }
   ],
   "source": [
    "df.head()"
   ]
  },
  {
   "cell_type": "code",
   "execution_count": 23,
   "id": "5a8bea98",
   "metadata": {},
   "outputs": [],
   "source": [
    "# check for null values"
   ]
  },
  {
   "cell_type": "code",
   "execution_count": 24,
   "id": "3e27fa8c",
   "metadata": {},
   "outputs": [
    {
     "data": {
      "text/plain": [
       "date          0\n",
       "county        0\n",
       "state         0\n",
       "fips      23678\n",
       "cases         0\n",
       "deaths    57605\n",
       "dtype: int64"
      ]
     },
     "execution_count": 24,
     "metadata": {},
     "output_type": "execute_result"
    }
   ],
   "source": [
    "df.isna().sum()"
   ]
  },
  {
   "cell_type": "code",
   "execution_count": 25,
   "id": "55a3b697",
   "metadata": {},
   "outputs": [],
   "source": [
    "# check for data types"
   ]
  },
  {
   "cell_type": "code",
   "execution_count": 26,
   "id": "9e19e045",
   "metadata": {},
   "outputs": [
    {
     "name": "stdout",
     "output_type": "stream",
     "text": [
      "<class 'pandas.core.frame.DataFrame'>\n",
      "RangeIndex: 2502832 entries, 0 to 2502831\n",
      "Data columns (total 6 columns):\n",
      " #   Column  Dtype  \n",
      "---  ------  -----  \n",
      " 0   date    object \n",
      " 1   county  object \n",
      " 2   state   object \n",
      " 3   fips    float64\n",
      " 4   cases   int64  \n",
      " 5   deaths  float64\n",
      "dtypes: float64(2), int64(1), object(3)\n",
      "memory usage: 114.6+ MB\n"
     ]
    }
   ],
   "source": [
    "df.info()"
   ]
  },
  {
   "cell_type": "code",
   "execution_count": 29,
   "id": "99cf837e",
   "metadata": {},
   "outputs": [
    {
     "data": {
      "text/plain": [
       "Snohomish       844\n",
       "Spokane         810\n",
       "King            806\n",
       "Walla Walla     803\n",
       "Chelan          801\n",
       "Clark           799\n",
       "Jefferson       799\n",
       "Pierce          799\n",
       "Kittitas        798\n",
       "Kitsap          797\n",
       "Skagit          795\n",
       "Whatcom         795\n",
       "Island          794\n",
       "Thurston        794\n",
       "Columbia        793\n",
       "Grays Harbor    793\n",
       "Yakima          793\n",
       "Grant           792\n",
       "Klickitat       791\n",
       "Lincoln         790\n",
       "Lewis           790\n",
       "Franklin        788\n",
       "Mason           788\n",
       "Benton          787\n",
       "Clallam         786\n",
       "Cowlitz         785\n",
       "San Juan        785\n",
       "Stevens         785\n",
       "Whitman         783\n",
       "Douglas         782\n",
       "Adams           782\n",
       "Ferry           780\n",
       "Okanogan        780\n",
       "Skamania        778\n",
       "Pend Oreille    772\n",
       "Asotin          771\n",
       "Wahkiakum       770\n",
       "Pacific         764\n",
       "Garfield        671\n",
       "Unknown         180\n",
       "Name: county, dtype: int64"
      ]
     },
     "execution_count": 29,
     "metadata": {},
     "output_type": "execute_result"
    }
   ],
   "source": [
    "df[df['state'] == 'Washington']['county'].value_counts()"
   ]
  },
  {
   "cell_type": "code",
   "execution_count": 37,
   "id": "2807b565",
   "metadata": {},
   "outputs": [
    {
     "data": {
      "text/plain": [
       "array([53061.])"
      ]
     },
     "execution_count": 37,
     "metadata": {},
     "output_type": "execute_result"
    }
   ],
   "source": [
    "df[ df['county'] == 'Snohomish' ]['fips'].unique()"
   ]
  },
  {
   "cell_type": "code",
   "execution_count": 39,
   "id": "931525d0",
   "metadata": {},
   "outputs": [],
   "source": [
    "def csv_from_get_request_github(url: str) -> pd.DataFrame:\n",
    "    try:\n",
    "        r = requests.get(url)\n",
    "        r.raise_for_status()\n",
    "        data = r.content.decode('utf-8')\n",
    "        df = pd.read_csv(io.StringIO(data), low_memory=False)\n",
    "        print(\"Data extracted successfully from the URL.\")\n",
    "        return df\n",
    "    except requests.exceptions.RequestException as e:\n",
    "        print(f\"An error occurred during the GET request: {e}\")"
   ]
  },
  {
   "cell_type": "code",
   "execution_count": 43,
   "id": "5df798c0",
   "metadata": {},
   "outputs": [
    {
     "name": "stdout",
     "output_type": "stream",
     "text": [
      "Data extracted successfully from the URL.\n"
     ]
    }
   ],
   "source": [
    "url = url ='https://raw.githubusercontent.com/nytimes/covid-19-data/master/us-counties.csv'\n",
    "df = csv_from_get_request(url)"
   ]
  },
  {
   "cell_type": "markdown",
   "id": "115673df",
   "metadata": {},
   "source": [
    "### csv_from_local"
   ]
  },
  {
   "cell_type": "code",
   "execution_count": 48,
   "id": "600baa7f",
   "metadata": {},
   "outputs": [],
   "source": [
    "def csv_from_local(path: str) -> pd.DataFrame:\n",
    "    try:\n",
    "        df = pd.read_csv(path)\n",
    "        print(\"Data read successfully from the local CSV file.\")\n",
    "        return df\n",
    "    except FileNotFoundError as e:\n",
    "        print(f\"File not found at path: {path}\")"
   ]
  },
  {
   "cell_type": "code",
   "execution_count": 50,
   "id": "31296f62",
   "metadata": {},
   "outputs": [
    {
     "name": "stdout",
     "output_type": "stream",
     "text": [
      "Data read successfully from the local CSV file.\n"
     ]
    },
    {
     "data": {
      "text/html": [
       "<div>\n",
       "<style scoped>\n",
       "    .dataframe tbody tr th:only-of-type {\n",
       "        vertical-align: middle;\n",
       "    }\n",
       "\n",
       "    .dataframe tbody tr th {\n",
       "        vertical-align: top;\n",
       "    }\n",
       "\n",
       "    .dataframe thead th {\n",
       "        text-align: right;\n",
       "    }\n",
       "</style>\n",
       "<table border=\"1\" class=\"dataframe\">\n",
       "  <thead>\n",
       "    <tr style=\"text-align: right;\">\n",
       "      <th></th>\n",
       "      <th>date</th>\n",
       "      <th>county</th>\n",
       "      <th>state</th>\n",
       "      <th>fips</th>\n",
       "      <th>cases</th>\n",
       "      <th>deaths</th>\n",
       "    </tr>\n",
       "  </thead>\n",
       "  <tbody>\n",
       "    <tr>\n",
       "      <th>0</th>\n",
       "      <td>2020-01-21</td>\n",
       "      <td>Snohomish</td>\n",
       "      <td>Washington</td>\n",
       "      <td>53061</td>\n",
       "      <td>1</td>\n",
       "      <td>0.0</td>\n",
       "    </tr>\n",
       "    <tr>\n",
       "      <th>1</th>\n",
       "      <td>2020-01-22</td>\n",
       "      <td>Snohomish</td>\n",
       "      <td>Washington</td>\n",
       "      <td>53061</td>\n",
       "      <td>1</td>\n",
       "      <td>0.0</td>\n",
       "    </tr>\n",
       "    <tr>\n",
       "      <th>2</th>\n",
       "      <td>2020-01-23</td>\n",
       "      <td>Snohomish</td>\n",
       "      <td>Washington</td>\n",
       "      <td>53061</td>\n",
       "      <td>1</td>\n",
       "      <td>0.0</td>\n",
       "    </tr>\n",
       "    <tr>\n",
       "      <th>3</th>\n",
       "      <td>2020-01-24</td>\n",
       "      <td>Cook</td>\n",
       "      <td>Illinois</td>\n",
       "      <td>17031</td>\n",
       "      <td>1</td>\n",
       "      <td>0.0</td>\n",
       "    </tr>\n",
       "    <tr>\n",
       "      <th>4</th>\n",
       "      <td>2020-01-24</td>\n",
       "      <td>Snohomish</td>\n",
       "      <td>Washington</td>\n",
       "      <td>53061</td>\n",
       "      <td>1</td>\n",
       "      <td>0.0</td>\n",
       "    </tr>\n",
       "  </tbody>\n",
       "</table>\n",
       "</div>"
      ],
      "text/plain": [
       "         date     county       state   fips  cases  deaths\n",
       "0  2020-01-21  Snohomish  Washington  53061      1     0.0\n",
       "1  2020-01-22  Snohomish  Washington  53061      1     0.0\n",
       "2  2020-01-23  Snohomish  Washington  53061      1     0.0\n",
       "3  2020-01-24       Cook    Illinois  17031      1     0.0\n",
       "4  2020-01-24  Snohomish  Washington  53061      1     0.0"
      ]
     },
     "execution_count": 50,
     "metadata": {},
     "output_type": "execute_result"
    }
   ],
   "source": [
    "path = '../data/raw_data/covid_raw_20220701.csv'\n",
    "csv_from_local(path).head()"
   ]
  },
  {
   "cell_type": "code",
   "execution_count": null,
   "id": "712c4fc8",
   "metadata": {},
   "outputs": [],
   "source": []
  }
 ],
 "metadata": {
  "kernelspec": {
   "display_name": "Python 3 (ipykernel)",
   "language": "python",
   "name": "python3"
  },
  "language_info": {
   "codemirror_mode": {
    "name": "ipython",
    "version": 3
   },
   "file_extension": ".py",
   "mimetype": "text/x-python",
   "name": "python",
   "nbconvert_exporter": "python",
   "pygments_lexer": "ipython3",
   "version": "3.9.13"
  }
 },
 "nbformat": 4,
 "nbformat_minor": 5
}
