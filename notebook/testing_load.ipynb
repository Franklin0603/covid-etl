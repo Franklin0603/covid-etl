{
 "cells": [
  {
   "cell_type": "code",
   "execution_count": 1,
   "id": "f689ab5d",
   "metadata": {},
   "outputs": [],
   "source": [
    "# testing datadase_utils file"
   ]
  },
  {
   "cell_type": "code",
   "execution_count": 20,
   "id": "5cb781cb",
   "metadata": {},
   "outputs": [],
   "source": [
    "import sys\n",
    "import yaml\n",
    "\n",
    "# sql connection\n",
    "import mysql.connector as mysql\n",
    "from mysql.connector import Error\n",
    "from sqlalchemy import create_engine\n",
    "from sqlalchemy.exc import SQLAlchemyError"
   ]
  },
  {
   "cell_type": "code",
   "execution_count": 11,
   "id": "eabe98a4",
   "metadata": {},
   "outputs": [],
   "source": [
    "database_type_flag = 'local'"
   ]
  },
  {
   "cell_type": "code",
   "execution_count": 12,
   "id": "6c195272",
   "metadata": {},
   "outputs": [],
   "source": [
    "valid_database_types = ['local', 'aws','gcp']\n",
    "if database_type_flag not in valid_database_types:\n",
    "    print(f\"Invalid database_type_flag. Expected one of: {valid_database_types}\")"
   ]
  },
  {
   "cell_type": "code",
   "execution_count": 13,
   "id": "8c3410cd",
   "metadata": {},
   "outputs": [],
   "source": [
    "try:\n",
    "    with open('./config/credentials.yml') as f:\n",
    "        credentails_data = yaml.safe_load(f)\n",
    "except Exception as e:\n",
    "    print(f'Failed to open credentials file: {e}')\n",
    "    sys.exit(1)"
   ]
  },
  {
   "cell_type": "code",
   "execution_count": 14,
   "id": "9f17eed7",
   "metadata": {},
   "outputs": [
    {
     "data": {
      "text/plain": [
       "{'aws_database': {'hostname': 'aba.crvkycawugwh.us-east-1.rds.amazonaws.com',\n",
       "  'port': '3306',\n",
       "  'username': 'franklin_ajisogun',\n",
       "  'password': 'Water1'},\n",
       " 'gcp_database': {'hostname': '35.236.242.49',\n",
       "  'port': '3306',\n",
       "  'username': 'root',\n",
       "  'password': 'applesandoranges'},\n",
       " 'local_database': {'hostname': 'localhost',\n",
       "  'port': '3306',\n",
       "  'username': 'root',\n",
       "  'password': 'test@123'},\n",
       " 'email_detail': {'email': 'franklintest03@gmail.com',\n",
       "  'password': 'qvjtgnavwhqlpbbw'}}"
      ]
     },
     "execution_count": 14,
     "metadata": {},
     "output_type": "execute_result"
    }
   ],
   "source": [
    "credentials_data"
   ]
  },
  {
   "cell_type": "code",
   "execution_count": 32,
   "id": "5b4774df",
   "metadata": {},
   "outputs": [
    {
     "data": {
      "text/plain": [
       "{'hostname': 'localhost',\n",
       " 'port': 3306,\n",
       " 'username': 'root',\n",
       " 'password': 'test@123'}"
      ]
     },
     "execution_count": 32,
     "metadata": {},
     "output_type": "execute_result"
    }
   ],
   "source": [
    "credentials = credentails_data.get(f'{database_type_flag}_database')\n",
    "credentials"
   ]
  },
  {
   "cell_type": "code",
   "execution_count": 33,
   "id": "d77cb93a",
   "metadata": {},
   "outputs": [],
   "source": [
    "if credentials.get('port') is not None:\n",
    "    try:\n",
    "        credentials['port'] = int(credentails['port'])\n",
    "    except ValueError:\n",
    "        print(\"Error: Port number must be an integer\") \n",
    "        sys.exit(1)"
   ]
  },
  {
   "cell_type": "code",
   "execution_count": 34,
   "id": "3d503cfb",
   "metadata": {},
   "outputs": [],
   "source": [
    "host_input, user_input, password_input,port_input = credentials[\"hostname\"], credentials[\"username\"],\\\n",
    "                                                    credentials[\"password\"],credentials[\"port\"]\n"
   ]
  },
  {
   "cell_type": "code",
   "execution_count": 37,
   "id": "95f5426d",
   "metadata": {},
   "outputs": [
    {
     "name": "stdout",
     "output_type": "stream",
     "text": [
      "Connected to MySQL database...\n"
     ]
    }
   ],
   "source": [
    "credentials_info = {\"host\": host_input,\n",
    "                    \"user\": user_input,\n",
    "                    \"password\": password_input,\n",
    "                    \"port\": port_input}\n",
    "\n",
    "try:\n",
    "    connection = mysql.connect(**credentials_info)\n",
    "    if connection.is_connected():\n",
    "        print(\"Connected to MySQL database...\")\n",
    "except mysql.Error as e:\n",
    "    print(f\"Failed to connect to MySQL database: {e}\")"
   ]
  },
  {
   "cell_type": "code",
   "execution_count": 38,
   "id": "cb8731bd",
   "metadata": {},
   "outputs": [],
   "source": [
    "import database_utils"
   ]
  },
  {
   "cell_type": "code",
   "execution_count": 39,
   "id": "2adf2436",
   "metadata": {},
   "outputs": [
    {
     "name": "stderr",
     "output_type": "stream",
     "text": [
      "INFO:database_utils:Connected to MySQL database...\n"
     ]
    }
   ],
   "source": [
    "credentials = database_utils.yaml_credentials(database_type_flag) \n",
    "connection = database_utils.connect_db(credentials)"
   ]
  },
  {
   "cell_type": "code",
   "execution_count": 40,
   "id": "7d972b53",
   "metadata": {},
   "outputs": [
    {
     "data": {
      "text/plain": [
       "<mysql.connector.connection.MySQLConnection at 0x7fe2832ec340>"
      ]
     },
     "execution_count": 40,
     "metadata": {},
     "output_type": "execute_result"
    }
   ],
   "source": [
    "connection"
   ]
  },
  {
   "cell_type": "code",
   "execution_count": 41,
   "id": "8a895068",
   "metadata": {},
   "outputs": [],
   "source": [
    "cursor = connection.cursor()"
   ]
  },
  {
   "cell_type": "code",
   "execution_count": 42,
   "id": "0c04831f",
   "metadata": {},
   "outputs": [],
   "source": [
    "cursor.execute(\"SHOW DATABASES\")"
   ]
  },
  {
   "cell_type": "code",
   "execution_count": 43,
   "id": "732155e7",
   "metadata": {},
   "outputs": [
    {
     "name": "stdout",
     "output_type": "stream",
     "text": [
      "('customer_db',)\n",
      "('information_schema',)\n",
      "('iris_db',)\n",
      "('mysql',)\n",
      "('performance_schema',)\n",
      "('sys',)\n"
     ]
    }
   ],
   "source": [
    "for db in cursor.fetchall():\n",
    "    print(db)"
   ]
  },
  {
   "cell_type": "code",
   "execution_count": null,
   "id": "cbe9b6ae",
   "metadata": {},
   "outputs": [],
   "source": []
  },
  {
   "cell_type": "code",
   "execution_count": null,
   "id": "6081f19f",
   "metadata": {},
   "outputs": [],
   "source": []
  },
  {
   "cell_type": "code",
   "execution_count": null,
   "id": "bb7a8a79",
   "metadata": {},
   "outputs": [],
   "source": []
  },
  {
   "cell_type": "code",
   "execution_count": null,
   "id": "029b1f7a",
   "metadata": {},
   "outputs": [],
   "source": [
    "def load_data_in_database(df, database_type_flag = \"local\", db_name = 'covid_db',  table_name = 'covid'):\n",
    "\n",
    "    # uppercase columns\n",
    "    # df.columns = ['CASES_DATE', 'COUNTY', 'STATE', 'FIPS', 'CASES', 'DEATHS', 'DB_DATE_UPLOAD']\n",
    "\n",
    "    credentials = database_utils.yaml_credentials(database_type_flag) \n",
    "    connection = database_utils.connect_db(credentials)\n",
    "\n",
    "    if connection is not None:\n",
    "        database_utils.ensure_database_exists(connection, db_name)\n",
    "\n",
    "        create_table_query = f\"\"\"\n",
    "        CREATE TABLE IF NOT EXISTS {db_name}.{table_name} (\n",
    "             CASES_DATE DATE,\n",
    "             COUNTY varchar(255),\n",
    "             STATE varchar(255),\n",
    "             FIPS  INT,\n",
    "             CASES INT,\n",
    "             DEATHS INT,\n",
    "             DB_DATE_UPLOAD DATE NOT NULL, \n",
    "             SOURCE_TYPE varchar(255)\n",
    "        \"\"\"\n",
    "        database_utils.create_table(connection, create_table_query, db_name, table_name)\n",
    "        #database_utils.load_data_to_table(df, credentials, db_name, table_name, chunksize=10000)\n",
    "        connection.close()"
   ]
  },
  {
   "cell_type": "code",
   "execution_count": null,
   "id": "a7d0c4c6",
   "metadata": {},
   "outputs": [],
   "source": []
  },
  {
   "cell_type": "code",
   "execution_count": null,
   "id": "f44c42c0",
   "metadata": {},
   "outputs": [],
   "source": []
  },
  {
   "cell_type": "code",
   "execution_count": null,
   "id": "63ec5f0b",
   "metadata": {},
   "outputs": [],
   "source": []
  },
  {
   "cell_type": "code",
   "execution_count": null,
   "id": "cedcbca6",
   "metadata": {},
   "outputs": [],
   "source": []
  },
  {
   "cell_type": "code",
   "execution_count": null,
   "id": "f9f55c26",
   "metadata": {},
   "outputs": [],
   "source": []
  }
 ],
 "metadata": {
  "kernelspec": {
   "display_name": "Python 3 (ipykernel)",
   "language": "python",
   "name": "python3"
  },
  "language_info": {
   "codemirror_mode": {
    "name": "ipython",
    "version": 3
   },
   "file_extension": ".py",
   "mimetype": "text/x-python",
   "name": "python",
   "nbconvert_exporter": "python",
   "pygments_lexer": "ipython3",
   "version": "3.9.13"
  }
 },
 "nbformat": 4,
 "nbformat_minor": 5
}
