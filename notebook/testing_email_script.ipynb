{
 "cells": [
  {
   "cell_type": "code",
   "execution_count": 16,
   "id": "290fa384",
   "metadata": {},
   "outputs": [],
   "source": [
    "import os\n",
    "import glob\n",
    "import shutil"
   ]
  },
  {
   "cell_type": "code",
   "execution_count": 4,
   "id": "18b82147",
   "metadata": {},
   "outputs": [],
   "source": [
    "# email libraries\n",
    "import smtplib\n",
    "from email.mime.text import MIMEText\n",
    "from email.mime.multipart import MIMEMultipart\n",
    "from email.mime.base import MIMEBase\n",
    "from email import encoders"
   ]
  },
  {
   "cell_type": "code",
   "execution_count": null,
   "id": "24741efc",
   "metadata": {},
   "outputs": [],
   "source": []
  },
  {
   "cell_type": "code",
   "execution_count": 5,
   "id": "28c7c10b",
   "metadata": {},
   "outputs": [],
   "source": [
    "def delete_files(directory):\n",
    "    \"\"\"\n",
    "    Delete all files in a directory.\n",
    "\n",
    "    Args:\n",
    "        directory (str): Path to the directory containing the files.\n",
    "\n",
    "    Returns:\n",
    "        None\n",
    "    \"\"\"\n",
    "    try:\n",
    "        files = glob.glob(os.path.join(directory, \"*\"))\n",
    "        for file in files:\n",
    "            os.remove(file)\n",
    "\n",
    "        logger.info(\"Files in the directory deleted successfully.\")\n",
    "\n",
    "    except FileNotFoundError:\n",
    "        print(f\"Directory '{directory}' not found.\")\n",
    "    except Exception as e:\n",
    "        print(\"An error occurred while deleting the files:\")\n"
   ]
  },
  {
   "cell_type": "code",
   "execution_count": 20,
   "id": "140267a2",
   "metadata": {},
   "outputs": [],
   "source": [
    "def copy_latest_files(source_folder, destination_folder):\n",
    "    \"\"\"\n",
    "    Copy the latest saved data files from the source folder to the destination folder.\n",
    "\n",
    "    Args:\n",
    "        source_folder (str): Path to the source folder.\n",
    "        destination_folder (str): Path to the destination folder.\n",
    "\n",
    "    Returns:\n",
    "        None\n",
    "    \"\"\"\n",
    "    try:\n",
    "        os.makedirs(destination_folder, exist_ok=True)\n",
    "\n",
    "        # Find the latest data file in the source folder\n",
    "        latest_file = max(glob.glob(os.path.join(source_folder, \"*.*\")), key=os.path.getctime)\n",
    "\n",
    "        # Move the latest file to the destination folder\n",
    "        # shutil.move(latest_file, destination_folder)\n",
    "        shutil.copy(latest_file, destination_folder)\n",
    "\n",
    "        print(f\"{latest_file} copied to the {destination_folder} successfully.\")\n",
    "\n",
    "    except FileNotFoundError:\n",
    "        print(\"Source or destination folder not found.\")\n",
    "    except ValueError:\n",
    "        print(\"No files found in the source folder.\")\n",
    "    except Exception as e:\n",
    "        print(\"An error occurred while copying the latest data files:\")\n",
    "        print(e)"
   ]
  },
  {
   "cell_type": "code",
   "execution_count": 7,
   "id": "dca08c7c",
   "metadata": {},
   "outputs": [],
   "source": [
    "# source_folders = [\"../data/validation\", \"../data/logs\"]\n",
    "# destination_folder = \"../data/data_for_email\"\n",
    "\n",
    "folder = \"../data/validation\"\n",
    "destination_folder = \"../data/data_for_email\""
   ]
  },
  {
   "cell_type": "code",
   "execution_count": 8,
   "id": "b31c8a7a",
   "metadata": {},
   "outputs": [],
   "source": [
    "os.makedirs(destination_folder, exist_ok=True)"
   ]
  },
  {
   "cell_type": "code",
   "execution_count": 12,
   "id": "dcd66454",
   "metadata": {},
   "outputs": [],
   "source": [
    "latest_file = max(glob.glob(os.path.join(folder, \"*.*\")), key=os.path.getctime)"
   ]
  },
  {
   "cell_type": "code",
   "execution_count": 15,
   "id": "b4265a22",
   "metadata": {},
   "outputs": [
    {
     "data": {
      "text/plain": [
       "['../data/validation/covid_validation_20230802.csv',\n",
       " '../data/validation/covid_validation_20230803.csv']"
      ]
     },
     "execution_count": 15,
     "metadata": {},
     "output_type": "execute_result"
    }
   ],
   "source": [
    "glob.glob(os.path.join(folder, \"*.*\"))"
   ]
  },
  {
   "cell_type": "code",
   "execution_count": 13,
   "id": "8e89b366",
   "metadata": {},
   "outputs": [
    {
     "data": {
      "text/plain": [
       "'../data/validation/covid_validation_20230803.csv'"
      ]
     },
     "execution_count": 13,
     "metadata": {},
     "output_type": "execute_result"
    }
   ],
   "source": [
    "latest_file"
   ]
  },
  {
   "cell_type": "code",
   "execution_count": 17,
   "id": "c7539228",
   "metadata": {},
   "outputs": [
    {
     "data": {
      "text/plain": [
       "'../data/data_for_email/covid_validation_20230803.csv'"
      ]
     },
     "execution_count": 17,
     "metadata": {},
     "output_type": "execute_result"
    }
   ],
   "source": [
    "shutil.copy(latest_file, destination_folder)"
   ]
  },
  {
   "cell_type": "code",
   "execution_count": 21,
   "id": "33a0867f",
   "metadata": {},
   "outputs": [
    {
     "name": "stdout",
     "output_type": "stream",
     "text": [
      "../data/validation/covid_validation_20230803.csv copied to the ../data/data_for_email successfully.\n",
      "../data/logs/covid_logs_20230801.log copied to the ../data/data_for_email successfully.\n"
     ]
    }
   ],
   "source": [
    "# move latest data files to the destination folder\n",
    "source_folders = [\"../data/validation\", \"../data/logs\"]\n",
    "destination_folder = \"../data/data_for_email\"\n",
    "for folder in source_folders:\n",
    "    copy_latest_files(folder, destination_folder)"
   ]
  },
  {
   "cell_type": "code",
   "execution_count": 30,
   "id": "8d2157cb",
   "metadata": {},
   "outputs": [],
   "source": [
    "def convert_log_to_text(log_file, text_file):\n",
    "    \"\"\"\n",
    "    Convert a log file to a text file.\n",
    "\n",
    "    Args:\n",
    "        log_file (str): Path to the log file.\n",
    "        text_file (str): Path to the text file to be created.\n",
    "\n",
    "    Returns:\n",
    "        None\n",
    "    \"\"\"\n",
    "    try:\n",
    "        with open(log_file, 'r') as f:\n",
    "            log_data = f.read()\n",
    "\n",
    "        with open(text_file, 'w') as f:\n",
    "            f.write(log_data)\n",
    "\n",
    "        print(f\"Log file '{log_file}' converted to text file '{text_file}' successfully.\")\n",
    "\n",
    "    except FileNotFoundError:\n",
    "        print(f\"Log file '{log_file}' not found.\")\n",
    "    except Exception as e:\n",
    "        print(f\"An error occurred while converting the log file '{log_file}' to text file '{text_file}':\")\n",
    "        print(e)\n"
   ]
  },
  {
   "cell_type": "code",
   "execution_count": 31,
   "id": "343213cb",
   "metadata": {},
   "outputs": [],
   "source": [
    "def process_log_files(directory):\n",
    "    \"\"\"\n",
    "    Process log files in a directory by converting them to text files.\n",
    "\n",
    "    Args:\n",
    "        directory (str): Path to the directory containing the log files.\n",
    "\n",
    "    Returns:\n",
    "        None\n",
    "    \"\"\"\n",
    "    try:\n",
    "        os.chdir(directory)\n",
    "        log_files = glob.glob(\"*.log\")\n",
    "\n",
    "        for log_file in log_files:\n",
    "            text_file = f\"{os.path.splitext(log_file)[0]}.txt\"\n",
    "            convert_log_to_text(log_file, text_file)\n",
    "\n",
    "        logger.info(\"Log files processed successfully.\")\n",
    "\n",
    "    except FileNotFoundError:\n",
    "        logger.error(f\"Directory '{directory}' not found.\")\n",
    "    except Exception as e:\n",
    "        logger.error(\"An error occurred while processing log files:\")"
   ]
  },
  {
   "cell_type": "code",
   "execution_count": 32,
   "id": "853860cc",
   "metadata": {},
   "outputs": [
    {
     "name": "stdout",
     "output_type": "stream",
     "text": [
      "../data/data_for_email/covid_logs_20230801.log\n",
      "../data/data_for_email/covid_logs_20230801.txt\n",
      "Log file '../data/data_for_email/covid_logs_20230801.log' converted to text file '../data/data_for_email/covid_logs_20230801.txt' successfully.\n"
     ]
    }
   ],
   "source": [
    "directory = '../data/data_for_email/'\n",
    "log_files = glob.glob(f\"{directory}/*.log\")\n",
    "for log_file in log_files:\n",
    "    print(log_file)\n",
    "    text_file = f\"{os.path.splitext(log_file)[0]}.txt\"\n",
    "    print(text_file)\n",
    "    convert_log_to_text(log_file, text_file)\n"
   ]
  },
  {
   "cell_type": "code",
   "execution_count": null,
   "id": "14e8f9a6",
   "metadata": {},
   "outputs": [],
   "source": []
  },
  {
   "cell_type": "code",
   "execution_count": 33,
   "id": "8b5339fc",
   "metadata": {},
   "outputs": [
    {
     "data": {
      "text/plain": [
       "'/Users/franklinajisogun/Desktop/Analytic-Selfwork/data-engineer-project/covid-project/covid-data-pipeline/src/data/email-data'"
      ]
     },
     "execution_count": 33,
     "metadata": {},
     "output_type": "execute_result"
    }
   ],
   "source": [
    "attachment_directory = os.path.join(os.getcwd(), 'data/email-data')\n",
    "attachment_directory"
   ]
  },
  {
   "cell_type": "code",
   "execution_count": 34,
   "id": "52bd6b51",
   "metadata": {},
   "outputs": [
    {
     "data": {
      "text/plain": [
       "'/Users/franklinajisogun/Desktop/Analytic-Selfwork/data-engineer-project/covid-project/covid-data-pipeline/src'"
      ]
     },
     "execution_count": 34,
     "metadata": {},
     "output_type": "execute_result"
    }
   ],
   "source": [
    "os.getcwd()"
   ]
  },
  {
   "cell_type": "code",
   "execution_count": 63,
   "id": "a1eafae0",
   "metadata": {},
   "outputs": [],
   "source": [
    "validate_file = \"../data/data_for_email/\"\n",
    "validate_files = glob.glob(f\"{validate_file}/*val*\")\n",
    "validate_file_path_string = os.path.pathsep.join(validate_files)"
   ]
  },
  {
   "cell_type": "code",
   "execution_count": 64,
   "id": "5b612184",
   "metadata": {},
   "outputs": [
    {
     "data": {
      "text/plain": [
       "'../data/data_for_email/covid_validation_20230803.csv'"
      ]
     },
     "execution_count": 64,
     "metadata": {},
     "output_type": "execute_result"
    }
   ],
   "source": [
    "validate_file_path_string"
   ]
  },
  {
   "cell_type": "code",
   "execution_count": 47,
   "id": "d0665ff9",
   "metadata": {},
   "outputs": [
    {
     "data": {
      "text/plain": [
       "'/Users/franklinajisogun/Desktop/Analytic-Selfwork/data-engineer-project/covid-project/covid-data-pipeline/src'"
      ]
     },
     "execution_count": 47,
     "metadata": {},
     "output_type": "execute_result"
    }
   ],
   "source": [
    "pwd"
   ]
  },
  {
   "cell_type": "code",
   "execution_count": 67,
   "id": "4cad4d79",
   "metadata": {},
   "outputs": [],
   "source": [
    "attachment_filename = './data/data_for_email/covid_logs_20230801.txt'.split('/')[-1]"
   ]
  },
  {
   "cell_type": "code",
   "execution_count": 68,
   "id": "89f70d20",
   "metadata": {},
   "outputs": [
    {
     "data": {
      "text/plain": [
       "'covid_logs_20230801.txt'"
      ]
     },
     "execution_count": 68,
     "metadata": {},
     "output_type": "execute_result"
    }
   ],
   "source": [
    "attachment_filename"
   ]
  },
  {
   "cell_type": "code",
   "execution_count": null,
   "id": "55e51c0d",
   "metadata": {},
   "outputs": [],
   "source": [
    "def move_latest_data(source_folder, destination_folder):\n",
    "    \"\"\"\n",
    "    Move the latest saved data file from the source folder to the destination folder.\n",
    "\n",
    "    Args:\n",
    "        source_folder (str): Path to the source folder.\n",
    "        destination_folder (str): Path to the destination folder.\n",
    "\n",
    "    Returns:\n",
    "        None\n",
    "    \"\"\"\n",
    "    try:\n",
    "        os.makedirs(destination_folder, exist_ok=True)\n",
    "\n",
    "        # Find the latest data file in the source folder\n",
    "        latest_file = max(glob.glob(os.path.join(source_folder, \"*.*\")), key=os.path.getctime)\n",
    "\n",
    "        # Move the latest file to the destination folder\n",
    "        shutil.move(latest_file, destination_folder)\n",
    "\n",
    "        logger.info(f\"Latest file moved to the destination folder successfully.\")\n",
    "\n",
    "    except FileNotFoundError:\n",
    "        logger.error(\"Source or destination folder not found.\")\n",
    "    except ValueError:\n",
    "        logger.error(\"No files found in the source folder.\")\n",
    "    except Exception as e:\n",
    "        logger.error(\"An error occurred while moving the latest data file:\")\n",
    "        logger.error(e)"
   ]
  }
 ],
 "metadata": {
  "kernelspec": {
   "display_name": "Python 3 (ipykernel)",
   "language": "python",
   "name": "python3"
  },
  "language_info": {
   "codemirror_mode": {
    "name": "ipython",
    "version": 3
   },
   "file_extension": ".py",
   "mimetype": "text/x-python",
   "name": "python",
   "nbconvert_exporter": "python",
   "pygments_lexer": "ipython3",
   "version": "3.9.13"
  }
 },
 "nbformat": 4,
 "nbformat_minor": 5
}
