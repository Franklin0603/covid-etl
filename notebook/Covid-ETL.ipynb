{
 "cells": [
  {
   "cell_type": "code",
   "execution_count": 3,
   "id": "aa131c57",
   "metadata": {},
   "outputs": [],
   "source": [
    "import logging\n",
    "import os\n",
    "import sys\n",
    "\n",
    "from dotenv import load_dotenv"
   ]
  },
  {
   "cell_type": "code",
   "execution_count": 2,
   "id": "570d23d2",
   "metadata": {},
   "outputs": [],
   "source": [
    "# Set up logging\n",
    "logging.basicConfig(\n",
    "    format='%(asctime)s %(name)s %(levelname)-8s %(message)s',\n",
    "    level=logging.INFO,\n",
    "    datefmt='%Y-%m-%d %H:%M:%S')\n",
    "logger = logging.getLogger(__name__)"
   ]
  },
  {
   "cell_type": "code",
   "execution_count": 3,
   "id": "224e0fd2",
   "metadata": {},
   "outputs": [],
   "source": [
    "# Load credentials from .env file, if needed\n",
    "if not os.getenv('PG_CONN_STRING'):\n",
    "    load_dotenv()\n",
    "PG_CONN_STRING = os.getenv('PG_CONN_STRING')"
   ]
  },
  {
   "cell_type": "code",
   "execution_count": 4,
   "id": "013a832a",
   "metadata": {},
   "outputs": [],
   "source": [
    "PG_CONN_STRING"
   ]
  },
  {
   "cell_type": "code",
   "execution_count": 5,
   "id": "b50f3b32",
   "metadata": {},
   "outputs": [
    {
     "name": "stderr",
     "output_type": "stream",
     "text": [
      "2023-05-20 22:16:42 __main__ INFO     Parsing command...\n"
     ]
    }
   ],
   "source": [
    "# Parse command line options and arguments\n",
    "logger.info('Parsing command...')"
   ]
  },
  {
   "cell_type": "code",
   "execution_count": 6,
   "id": "506e546b",
   "metadata": {},
   "outputs": [],
   "source": [
    "\n",
    "list_ = [ '-name',\n",
    "          'nyt_cases_counties',\n",
    "          'https://raw.githubusercontent.com/nytimes/covid-19-data/master/us-counties.csv',\n",
    "          'bitdotio/simple_pipeline.cases_counties']\n",
    "\n",
    "opts = [opt[1:] for opt in list_ if opt.startswith(\"-\")]\n",
    "\n",
    "local_source = 'local_source' in opts\n",
    "validate_data = 'validate_data' in opts"
   ]
  },
  {
   "cell_type": "code",
   "execution_count": 7,
   "id": "4db7a89d",
   "metadata": {},
   "outputs": [],
   "source": [
    "\n",
    "opts = [opt for opt in opts if opt not in ['local_source', 'validate_data']]\n",
    "args = [arg for arg in list_ if not arg.startswith(\"-\")]"
   ]
  },
  {
   "cell_type": "code",
   "execution_count": 8,
   "id": "36c967c2",
   "metadata": {},
   "outputs": [],
   "source": [
    "if len(args) != len(opts) + 2:\n",
    "    raise ValueError(\"At least one argument is missing, check the README.\")"
   ]
  },
  {
   "cell_type": "code",
   "execution_count": 9,
   "id": "e373d0ef",
   "metadata": {},
   "outputs": [
    {
     "data": {
      "text/plain": [
       "['https://raw.githubusercontent.com/nytimes/covid-19-data/master/us-counties.csv',\n",
       " 'bitdotio/simple_pipeline.cases_counties']"
      ]
     },
     "execution_count": 9,
     "metadata": {},
     "output_type": "execute_result"
    }
   ],
   "source": [
    "args[-2:]"
   ]
  },
  {
   "cell_type": "code",
   "execution_count": 10,
   "id": "1991eb6c",
   "metadata": {},
   "outputs": [],
   "source": [
    "# Set up local variables\n",
    "source, destination = args[-2:]"
   ]
  },
  {
   "cell_type": "code",
   "execution_count": 11,
   "id": "21c0b7a0",
   "metadata": {},
   "outputs": [
    {
     "data": {
      "text/plain": [
       "'https://raw.githubusercontent.com/nytimes/covid-19-data/master/us-counties.csv'"
      ]
     },
     "execution_count": 11,
     "metadata": {},
     "output_type": "execute_result"
    }
   ],
   "source": [
    "source"
   ]
  },
  {
   "cell_type": "code",
   "execution_count": 12,
   "id": "2f4f8f03",
   "metadata": {},
   "outputs": [
    {
     "data": {
      "text/plain": [
       "'bitdotio/simple_pipeline.cases_counties'"
      ]
     },
     "execution_count": 12,
     "metadata": {},
     "output_type": "execute_result"
    }
   ],
   "source": [
    "destination"
   ]
  },
  {
   "cell_type": "code",
   "execution_count": 13,
   "id": "0aed92e0",
   "metadata": {},
   "outputs": [],
   "source": [
    "opt_args = args[:-2]"
   ]
  },
  {
   "cell_type": "code",
   "execution_count": 14,
   "id": "7c8362c9",
   "metadata": {},
   "outputs": [
    {
     "data": {
      "text/plain": [
       "['nyt_cases_counties']"
      ]
     },
     "execution_count": 14,
     "metadata": {},
     "output_type": "execute_result"
    }
   ],
   "source": [
    "opt_args"
   ]
  },
  {
   "cell_type": "code",
   "execution_count": 15,
   "id": "a4cf2018",
   "metadata": {},
   "outputs": [],
   "source": [
    "option_args = dict(zip(opts, opt_args))"
   ]
  },
  {
   "cell_type": "code",
   "execution_count": 16,
   "id": "e330423d",
   "metadata": {},
   "outputs": [
    {
     "data": {
      "text/plain": [
       "{'name': 'nyt_cases_counties'}"
      ]
     },
     "execution_count": 16,
     "metadata": {},
     "output_type": "execute_result"
    }
   ],
   "source": [
    "option_args"
   ]
  },
  {
   "cell_type": "code",
   "execution_count": 17,
   "id": "a4224fd1",
   "metadata": {},
   "outputs": [
    {
     "name": "stderr",
     "output_type": "stream",
     "text": [
      "2023-05-20 22:16:43 __main__ INFO     Starting ETL...\n"
     ]
    }
   ],
   "source": [
    "# Execute ETL\n",
    "logger.info('Starting ETL...')"
   ]
  },
  {
   "cell_type": "code",
   "execution_count": 18,
   "id": "9f125d34",
   "metadata": {},
   "outputs": [
    {
     "name": "stderr",
     "output_type": "stream",
     "text": [
      "2023-05-20 22:16:43 __main__ INFO     Starting extract...\n"
     ]
    }
   ],
   "source": [
    "logger.info('Starting extract...')"
   ]
  },
  {
   "cell_type": "code",
   "execution_count": 19,
   "id": "30c1e879",
   "metadata": {},
   "outputs": [],
   "source": [
    "src = source\n",
    "dest = destination\n",
    "local_src = local_source\n",
    "validate_data = local_source\n",
    "options = option_args"
   ]
  },
  {
   "cell_type": "code",
   "execution_count": 20,
   "id": "d641403c",
   "metadata": {},
   "outputs": [
    {
     "name": "stdout",
     "output_type": "stream",
     "text": [
      "1: https://raw.githubusercontent.com/nytimes/covid-19-data/master/us-counties.csv\n",
      "2: bitdotio/simple_pipeline.cases_counties\n",
      "3: False\n",
      "4: False\n",
      "5: {'name': 'nyt_cases_counties'}\n"
     ]
    }
   ],
   "source": [
    "print(\"1:\",src)\n",
    "print(\"2:\",dest)\n",
    "print(\"3:\",local_src)\n",
    "print(\"4:\",validate_data)\n",
    "print(\"5:\",options)"
   ]
  },
  {
   "cell_type": "code",
   "execution_count": 21,
   "id": "ecff100d",
   "metadata": {},
   "outputs": [
    {
     "ename": "NameError",
     "evalue": "name 'extract' is not defined",
     "output_type": "error",
     "traceback": [
      "\u001b[0;31m---------------------------------------------------------------------------\u001b[0m",
      "\u001b[0;31mNameError\u001b[0m                                 Traceback (most recent call last)",
      "\u001b[0;32m/var/folders/21/f45fbj896dg1czx0x93kxrl80000gn/T/ipykernel_34947/3789546538.py\u001b[0m in \u001b[0;36m<module>\u001b[0;34m\u001b[0m\n\u001b[1;32m      2\u001b[0m     \u001b[0mdf\u001b[0m \u001b[0;34m=\u001b[0m \u001b[0mextract\u001b[0m\u001b[0;34m.\u001b[0m\u001b[0mcsv_from_local\u001b[0m\u001b[0;34m(\u001b[0m\u001b[0msrc\u001b[0m\u001b[0;34m)\u001b[0m\u001b[0;34m\u001b[0m\u001b[0;34m\u001b[0m\u001b[0m\n\u001b[1;32m      3\u001b[0m \u001b[0;32melse\u001b[0m\u001b[0;34m:\u001b[0m\u001b[0;34m\u001b[0m\u001b[0;34m\u001b[0m\u001b[0m\n\u001b[0;32m----> 4\u001b[0;31m     \u001b[0mdf\u001b[0m \u001b[0;34m=\u001b[0m \u001b[0mextract\u001b[0m\u001b[0;34m.\u001b[0m\u001b[0mcsv_from_get_request\u001b[0m\u001b[0;34m(\u001b[0m\u001b[0msrc\u001b[0m\u001b[0;34m)\u001b[0m\u001b[0;34m\u001b[0m\u001b[0;34m\u001b[0m\u001b[0m\n\u001b[0m",
      "\u001b[0;31mNameError\u001b[0m: name 'extract' is not defined"
     ]
    }
   ],
   "source": [
    "if local_src:\n",
    "    df = extract.csv_from_local(src)\n",
    "else:\n",
    "    df = extract.csv_from_get_request(src)    "
   ]
  },
  {
   "cell_type": "code",
   "execution_count": null,
   "id": "cde667b9",
   "metadata": {},
   "outputs": [],
   "source": [
    "# EXTRACT data"
   ]
  },
  {
   "cell_type": "code",
   "execution_count": 4,
   "id": "ee94e1c8",
   "metadata": {},
   "outputs": [],
   "source": [
    "import io\n",
    "import logging\n",
    "\n",
    "import pandas as pd\n",
    "import requests"
   ]
  },
  {
   "cell_type": "code",
   "execution_count": 5,
   "id": "e7cc0752",
   "metadata": {},
   "outputs": [],
   "source": [
    "#url = src\n",
    "url='https://raw.githubusercontent.com/nytimes/covid-19-data/master/us-counties.csv'\n",
    "r = requests.get(url, timeout=5)\n",
    "data = r.content.decode('utf-8')\n",
    "df =  pd.read_csv(io.StringIO(data), low_memory=False)"
   ]
  },
  {
   "cell_type": "code",
   "execution_count": 6,
   "id": "cc15e4bf",
   "metadata": {},
   "outputs": [
    {
     "data": {
      "text/html": [
       "<div>\n",
       "<style scoped>\n",
       "    .dataframe tbody tr th:only-of-type {\n",
       "        vertical-align: middle;\n",
       "    }\n",
       "\n",
       "    .dataframe tbody tr th {\n",
       "        vertical-align: top;\n",
       "    }\n",
       "\n",
       "    .dataframe thead th {\n",
       "        text-align: right;\n",
       "    }\n",
       "</style>\n",
       "<table border=\"1\" class=\"dataframe\">\n",
       "  <thead>\n",
       "    <tr style=\"text-align: right;\">\n",
       "      <th></th>\n",
       "      <th>date</th>\n",
       "      <th>county</th>\n",
       "      <th>state</th>\n",
       "      <th>fips</th>\n",
       "      <th>cases</th>\n",
       "      <th>deaths</th>\n",
       "    </tr>\n",
       "  </thead>\n",
       "  <tbody>\n",
       "    <tr>\n",
       "      <th>0</th>\n",
       "      <td>2020-01-21</td>\n",
       "      <td>Snohomish</td>\n",
       "      <td>Washington</td>\n",
       "      <td>53061.0</td>\n",
       "      <td>1</td>\n",
       "      <td>0.0</td>\n",
       "    </tr>\n",
       "    <tr>\n",
       "      <th>1</th>\n",
       "      <td>2020-01-22</td>\n",
       "      <td>Snohomish</td>\n",
       "      <td>Washington</td>\n",
       "      <td>53061.0</td>\n",
       "      <td>1</td>\n",
       "      <td>0.0</td>\n",
       "    </tr>\n",
       "    <tr>\n",
       "      <th>2</th>\n",
       "      <td>2020-01-23</td>\n",
       "      <td>Snohomish</td>\n",
       "      <td>Washington</td>\n",
       "      <td>53061.0</td>\n",
       "      <td>1</td>\n",
       "      <td>0.0</td>\n",
       "    </tr>\n",
       "    <tr>\n",
       "      <th>3</th>\n",
       "      <td>2020-01-24</td>\n",
       "      <td>Cook</td>\n",
       "      <td>Illinois</td>\n",
       "      <td>17031.0</td>\n",
       "      <td>1</td>\n",
       "      <td>0.0</td>\n",
       "    </tr>\n",
       "    <tr>\n",
       "      <th>4</th>\n",
       "      <td>2020-01-24</td>\n",
       "      <td>Snohomish</td>\n",
       "      <td>Washington</td>\n",
       "      <td>53061.0</td>\n",
       "      <td>1</td>\n",
       "      <td>0.0</td>\n",
       "    </tr>\n",
       "  </tbody>\n",
       "</table>\n",
       "</div>"
      ],
      "text/plain": [
       "         date     county       state     fips  cases  deaths\n",
       "0  2020-01-21  Snohomish  Washington  53061.0      1     0.0\n",
       "1  2020-01-22  Snohomish  Washington  53061.0      1     0.0\n",
       "2  2020-01-23  Snohomish  Washington  53061.0      1     0.0\n",
       "3  2020-01-24       Cook    Illinois  17031.0      1     0.0\n",
       "4  2020-01-24  Snohomish  Washington  53061.0      1     0.0"
      ]
     },
     "execution_count": 6,
     "metadata": {},
     "output_type": "execute_result"
    }
   ],
   "source": [
    "df.head()"
   ]
  },
  {
   "cell_type": "code",
   "execution_count": 25,
   "id": "80a0b888",
   "metadata": {},
   "outputs": [
    {
     "name": "stdout",
     "output_type": "stream",
     "text": [
      "Covid-ETL.ipynb  \u001b[31mextract.py\u001b[m\u001b[m*      main.py          transform.py\r\n",
      "\u001b[34m__pycache__\u001b[m\u001b[m/     load.py          \u001b[34msimple-pipeline\u001b[m\u001b[m/ validate.py\r\n"
     ]
    }
   ],
   "source": [
    "ls"
   ]
  },
  {
   "cell_type": "code",
   "execution_count": 26,
   "id": "14df5c13",
   "metadata": {},
   "outputs": [
    {
     "data": {
      "text/html": [
       "<div>\n",
       "<style scoped>\n",
       "    .dataframe tbody tr th:only-of-type {\n",
       "        vertical-align: middle;\n",
       "    }\n",
       "\n",
       "    .dataframe tbody tr th {\n",
       "        vertical-align: top;\n",
       "    }\n",
       "\n",
       "    .dataframe thead th {\n",
       "        text-align: right;\n",
       "    }\n",
       "</style>\n",
       "<table border=\"1\" class=\"dataframe\">\n",
       "  <thead>\n",
       "    <tr style=\"text-align: right;\">\n",
       "      <th></th>\n",
       "      <th>GEO_ID</th>\n",
       "      <th>NAME</th>\n",
       "      <th>S0101_C01_001E</th>\n",
       "      <th>S0101_C01_001M</th>\n",
       "      <th>S0101_C01_002E</th>\n",
       "      <th>S0101_C01_002M</th>\n",
       "      <th>S0101_C01_003E</th>\n",
       "      <th>S0101_C01_003M</th>\n",
       "      <th>S0101_C01_004E</th>\n",
       "      <th>S0101_C01_004M</th>\n",
       "      <th>...</th>\n",
       "      <th>S0101_C06_034E</th>\n",
       "      <th>S0101_C06_034M</th>\n",
       "      <th>S0101_C06_035E</th>\n",
       "      <th>S0101_C06_035M</th>\n",
       "      <th>S0101_C06_036E</th>\n",
       "      <th>S0101_C06_036M</th>\n",
       "      <th>S0101_C06_037E</th>\n",
       "      <th>S0101_C06_037M</th>\n",
       "      <th>S0101_C06_038E</th>\n",
       "      <th>S0101_C06_038M</th>\n",
       "    </tr>\n",
       "  </thead>\n",
       "  <tbody>\n",
       "    <tr>\n",
       "      <th>0</th>\n",
       "      <td>id</td>\n",
       "      <td>Geographic Area Name</td>\n",
       "      <td>Estimate!!Total!!Total population</td>\n",
       "      <td>Margin of Error!!Total!!Total population</td>\n",
       "      <td>Estimate!!Total!!Total population!!AGE!!Under ...</td>\n",
       "      <td>Margin of Error!!Total!!Total population!!AGE!...</td>\n",
       "      <td>Estimate!!Total!!Total population!!AGE!!5 to 9...</td>\n",
       "      <td>Margin of Error!!Total!!Total population!!AGE!...</td>\n",
       "      <td>Estimate!!Total!!Total population!!AGE!!10 to ...</td>\n",
       "      <td>Margin of Error!!Total!!Total population!!AGE!...</td>\n",
       "      <td>...</td>\n",
       "      <td>Estimate!!Percent Female!!Total population!!SU...</td>\n",
       "      <td>Margin of Error!!Percent Female!!Total populat...</td>\n",
       "      <td>Estimate!!Percent Female!!Total population!!SU...</td>\n",
       "      <td>Margin of Error!!Percent Female!!Total populat...</td>\n",
       "      <td>Estimate!!Percent Female!!Total population!!SU...</td>\n",
       "      <td>Margin of Error!!Percent Female!!Total populat...</td>\n",
       "      <td>Estimate!!Percent Female!!Total population!!PE...</td>\n",
       "      <td>Margin of Error!!Percent Female!!Total populat...</td>\n",
       "      <td>Estimate!!Percent Female!!Total population!!PE...</td>\n",
       "      <td>Margin of Error!!Percent Female!!Total populat...</td>\n",
       "    </tr>\n",
       "    <tr>\n",
       "      <th>1</th>\n",
       "      <td>0500000US01001</td>\n",
       "      <td>Autauga County, Alabama</td>\n",
       "      <td>55380</td>\n",
       "      <td>*****</td>\n",
       "      <td>3217</td>\n",
       "      <td>107</td>\n",
       "      <td>3814</td>\n",
       "      <td>352</td>\n",
       "      <td>3600</td>\n",
       "      <td>350</td>\n",
       "      <td>...</td>\n",
       "      <td>(X)</td>\n",
       "      <td>(X)</td>\n",
       "      <td>(X)</td>\n",
       "      <td>(X)</td>\n",
       "      <td>(X)</td>\n",
       "      <td>(X)</td>\n",
       "      <td>(X)</td>\n",
       "      <td>(X)</td>\n",
       "      <td>(X)</td>\n",
       "      <td>(X)</td>\n",
       "    </tr>\n",
       "    <tr>\n",
       "      <th>2</th>\n",
       "      <td>0500000US01003</td>\n",
       "      <td>Baldwin County, Alabama</td>\n",
       "      <td>212830</td>\n",
       "      <td>*****</td>\n",
       "      <td>11689</td>\n",
       "      <td>30</td>\n",
       "      <td>12058</td>\n",
       "      <td>831</td>\n",
       "      <td>14262</td>\n",
       "      <td>859</td>\n",
       "      <td>...</td>\n",
       "      <td>(X)</td>\n",
       "      <td>(X)</td>\n",
       "      <td>(X)</td>\n",
       "      <td>(X)</td>\n",
       "      <td>(X)</td>\n",
       "      <td>(X)</td>\n",
       "      <td>(X)</td>\n",
       "      <td>(X)</td>\n",
       "      <td>(X)</td>\n",
       "      <td>(X)</td>\n",
       "    </tr>\n",
       "    <tr>\n",
       "      <th>3</th>\n",
       "      <td>0500000US01005</td>\n",
       "      <td>Barbour County, Alabama</td>\n",
       "      <td>25361</td>\n",
       "      <td>*****</td>\n",
       "      <td>1349</td>\n",
       "      <td>26</td>\n",
       "      <td>1622</td>\n",
       "      <td>171</td>\n",
       "      <td>1422</td>\n",
       "      <td>170</td>\n",
       "      <td>...</td>\n",
       "      <td>(X)</td>\n",
       "      <td>(X)</td>\n",
       "      <td>(X)</td>\n",
       "      <td>(X)</td>\n",
       "      <td>(X)</td>\n",
       "      <td>(X)</td>\n",
       "      <td>(X)</td>\n",
       "      <td>(X)</td>\n",
       "      <td>(X)</td>\n",
       "      <td>(X)</td>\n",
       "    </tr>\n",
       "    <tr>\n",
       "      <th>4</th>\n",
       "      <td>0500000US01007</td>\n",
       "      <td>Bibb County, Alabama</td>\n",
       "      <td>22493</td>\n",
       "      <td>*****</td>\n",
       "      <td>1315</td>\n",
       "      <td>170</td>\n",
       "      <td>1219</td>\n",
       "      <td>270</td>\n",
       "      <td>1132</td>\n",
       "      <td>263</td>\n",
       "      <td>...</td>\n",
       "      <td>(X)</td>\n",
       "      <td>(X)</td>\n",
       "      <td>(X)</td>\n",
       "      <td>(X)</td>\n",
       "      <td>(X)</td>\n",
       "      <td>(X)</td>\n",
       "      <td>(X)</td>\n",
       "      <td>(X)</td>\n",
       "      <td>(X)</td>\n",
       "      <td>(X)</td>\n",
       "    </tr>\n",
       "  </tbody>\n",
       "</table>\n",
       "<p>5 rows × 458 columns</p>\n",
       "</div>"
      ],
      "text/plain": [
       "           GEO_ID                     NAME                     S0101_C01_001E  \\\n",
       "0              id     Geographic Area Name  Estimate!!Total!!Total population   \n",
       "1  0500000US01001  Autauga County, Alabama                              55380   \n",
       "2  0500000US01003  Baldwin County, Alabama                             212830   \n",
       "3  0500000US01005  Barbour County, Alabama                              25361   \n",
       "4  0500000US01007     Bibb County, Alabama                              22493   \n",
       "\n",
       "                             S0101_C01_001M  \\\n",
       "0  Margin of Error!!Total!!Total population   \n",
       "1                                     *****   \n",
       "2                                     *****   \n",
       "3                                     *****   \n",
       "4                                     *****   \n",
       "\n",
       "                                      S0101_C01_002E  \\\n",
       "0  Estimate!!Total!!Total population!!AGE!!Under ...   \n",
       "1                                               3217   \n",
       "2                                              11689   \n",
       "3                                               1349   \n",
       "4                                               1315   \n",
       "\n",
       "                                      S0101_C01_002M  \\\n",
       "0  Margin of Error!!Total!!Total population!!AGE!...   \n",
       "1                                                107   \n",
       "2                                                 30   \n",
       "3                                                 26   \n",
       "4                                                170   \n",
       "\n",
       "                                      S0101_C01_003E  \\\n",
       "0  Estimate!!Total!!Total population!!AGE!!5 to 9...   \n",
       "1                                               3814   \n",
       "2                                              12058   \n",
       "3                                               1622   \n",
       "4                                               1219   \n",
       "\n",
       "                                      S0101_C01_003M  \\\n",
       "0  Margin of Error!!Total!!Total population!!AGE!...   \n",
       "1                                                352   \n",
       "2                                                831   \n",
       "3                                                171   \n",
       "4                                                270   \n",
       "\n",
       "                                      S0101_C01_004E  \\\n",
       "0  Estimate!!Total!!Total population!!AGE!!10 to ...   \n",
       "1                                               3600   \n",
       "2                                              14262   \n",
       "3                                               1422   \n",
       "4                                               1132   \n",
       "\n",
       "                                      S0101_C01_004M  ...  \\\n",
       "0  Margin of Error!!Total!!Total population!!AGE!...  ...   \n",
       "1                                                350  ...   \n",
       "2                                                859  ...   \n",
       "3                                                170  ...   \n",
       "4                                                263  ...   \n",
       "\n",
       "                                      S0101_C06_034E  \\\n",
       "0  Estimate!!Percent Female!!Total population!!SU...   \n",
       "1                                                (X)   \n",
       "2                                                (X)   \n",
       "3                                                (X)   \n",
       "4                                                (X)   \n",
       "\n",
       "                                      S0101_C06_034M  \\\n",
       "0  Margin of Error!!Percent Female!!Total populat...   \n",
       "1                                                (X)   \n",
       "2                                                (X)   \n",
       "3                                                (X)   \n",
       "4                                                (X)   \n",
       "\n",
       "                                      S0101_C06_035E  \\\n",
       "0  Estimate!!Percent Female!!Total population!!SU...   \n",
       "1                                                (X)   \n",
       "2                                                (X)   \n",
       "3                                                (X)   \n",
       "4                                                (X)   \n",
       "\n",
       "                                      S0101_C06_035M  \\\n",
       "0  Margin of Error!!Percent Female!!Total populat...   \n",
       "1                                                (X)   \n",
       "2                                                (X)   \n",
       "3                                                (X)   \n",
       "4                                                (X)   \n",
       "\n",
       "                                      S0101_C06_036E  \\\n",
       "0  Estimate!!Percent Female!!Total population!!SU...   \n",
       "1                                                (X)   \n",
       "2                                                (X)   \n",
       "3                                                (X)   \n",
       "4                                                (X)   \n",
       "\n",
       "                                      S0101_C06_036M  \\\n",
       "0  Margin of Error!!Percent Female!!Total populat...   \n",
       "1                                                (X)   \n",
       "2                                                (X)   \n",
       "3                                                (X)   \n",
       "4                                                (X)   \n",
       "\n",
       "                                      S0101_C06_037E  \\\n",
       "0  Estimate!!Percent Female!!Total population!!PE...   \n",
       "1                                                (X)   \n",
       "2                                                (X)   \n",
       "3                                                (X)   \n",
       "4                                                (X)   \n",
       "\n",
       "                                      S0101_C06_037M  \\\n",
       "0  Margin of Error!!Percent Female!!Total populat...   \n",
       "1                                                (X)   \n",
       "2                                                (X)   \n",
       "3                                                (X)   \n",
       "4                                                (X)   \n",
       "\n",
       "                                      S0101_C06_038E  \\\n",
       "0  Estimate!!Percent Female!!Total population!!PE...   \n",
       "1                                                (X)   \n",
       "2                                                (X)   \n",
       "3                                                (X)   \n",
       "4                                                (X)   \n",
       "\n",
       "                                      S0101_C06_038M  \n",
       "0  Margin of Error!!Percent Female!!Total populat...  \n",
       "1                                                (X)  \n",
       "2                                                (X)  \n",
       "3                                                (X)  \n",
       "4                                                (X)  \n",
       "\n",
       "[5 rows x 458 columns]"
      ]
     },
     "execution_count": 26,
     "metadata": {},
     "output_type": "execute_result"
    }
   ],
   "source": [
    "path = 'simple-pipeline/simple_pipeline/acs_5yr_population_data.csv'\n",
    "df_2 = pd.read_csv(path, low_memory=False)\n",
    "df_2.head()"
   ]
  },
  {
   "cell_type": "code",
   "execution_count": 27,
   "id": "f199a21a",
   "metadata": {},
   "outputs": [],
   "source": [
    "# TRANSFORM data"
   ]
  },
  {
   "cell_type": "code",
   "execution_count": 28,
   "id": "0d5c8aab",
   "metadata": {},
   "outputs": [
    {
     "data": {
      "text/plain": [
       "{'name': 'nyt_cases_counties'}"
      ]
     },
     "execution_count": 28,
     "metadata": {},
     "output_type": "execute_result"
    }
   ],
   "source": [
    "options"
   ]
  },
  {
   "cell_type": "code",
   "execution_count": 29,
   "id": "c7a63111",
   "metadata": {},
   "outputs": [
    {
     "name": "stdout",
     "output_type": "stream",
     "text": [
      "nyt_cases_counties\n"
     ]
    }
   ],
   "source": [
    "if 'name' in options:\n",
    "    print( options['name'])"
   ]
  },
  {
   "cell_type": "code",
   "execution_count": 30,
   "id": "b890eccc",
   "metadata": {},
   "outputs": [
    {
     "data": {
      "text/html": [
       "<div>\n",
       "<style scoped>\n",
       "    .dataframe tbody tr th:only-of-type {\n",
       "        vertical-align: middle;\n",
       "    }\n",
       "\n",
       "    .dataframe tbody tr th {\n",
       "        vertical-align: top;\n",
       "    }\n",
       "\n",
       "    .dataframe thead th {\n",
       "        text-align: right;\n",
       "    }\n",
       "</style>\n",
       "<table border=\"1\" class=\"dataframe\">\n",
       "  <thead>\n",
       "    <tr style=\"text-align: right;\">\n",
       "      <th></th>\n",
       "      <th>date</th>\n",
       "      <th>county</th>\n",
       "      <th>state</th>\n",
       "      <th>fips</th>\n",
       "      <th>cases</th>\n",
       "      <th>deaths</th>\n",
       "    </tr>\n",
       "  </thead>\n",
       "  <tbody>\n",
       "    <tr>\n",
       "      <th>0</th>\n",
       "      <td>2020-01-21</td>\n",
       "      <td>Snohomish</td>\n",
       "      <td>Washington</td>\n",
       "      <td>53061.0</td>\n",
       "      <td>1</td>\n",
       "      <td>0.0</td>\n",
       "    </tr>\n",
       "    <tr>\n",
       "      <th>1</th>\n",
       "      <td>2020-01-22</td>\n",
       "      <td>Snohomish</td>\n",
       "      <td>Washington</td>\n",
       "      <td>53061.0</td>\n",
       "      <td>1</td>\n",
       "      <td>0.0</td>\n",
       "    </tr>\n",
       "    <tr>\n",
       "      <th>2</th>\n",
       "      <td>2020-01-23</td>\n",
       "      <td>Snohomish</td>\n",
       "      <td>Washington</td>\n",
       "      <td>53061.0</td>\n",
       "      <td>1</td>\n",
       "      <td>0.0</td>\n",
       "    </tr>\n",
       "    <tr>\n",
       "      <th>3</th>\n",
       "      <td>2020-01-24</td>\n",
       "      <td>Cook</td>\n",
       "      <td>Illinois</td>\n",
       "      <td>17031.0</td>\n",
       "      <td>1</td>\n",
       "      <td>0.0</td>\n",
       "    </tr>\n",
       "    <tr>\n",
       "      <th>4</th>\n",
       "      <td>2020-01-24</td>\n",
       "      <td>Snohomish</td>\n",
       "      <td>Washington</td>\n",
       "      <td>53061.0</td>\n",
       "      <td>1</td>\n",
       "      <td>0.0</td>\n",
       "    </tr>\n",
       "  </tbody>\n",
       "</table>\n",
       "</div>"
      ],
      "text/plain": [
       "         date     county       state     fips  cases  deaths\n",
       "0  2020-01-21  Snohomish  Washington  53061.0      1     0.0\n",
       "1  2020-01-22  Snohomish  Washington  53061.0      1     0.0\n",
       "2  2020-01-23  Snohomish  Washington  53061.0      1     0.0\n",
       "3  2020-01-24       Cook    Illinois  17031.0      1     0.0\n",
       "4  2020-01-24  Snohomish  Washington  53061.0      1     0.0"
      ]
     },
     "execution_count": 30,
     "metadata": {},
     "output_type": "execute_result"
    }
   ],
   "source": [
    "df.head()"
   ]
  },
  {
   "cell_type": "code",
   "execution_count": 31,
   "id": "4760a0a4",
   "metadata": {},
   "outputs": [
    {
     "name": "stdout",
     "output_type": "stream",
     "text": [
      "<class 'pandas.core.frame.DataFrame'>\n",
      "RangeIndex: 2502832 entries, 0 to 2502831\n",
      "Data columns (total 6 columns):\n",
      " #   Column  Dtype  \n",
      "---  ------  -----  \n",
      " 0   date    object \n",
      " 1   county  object \n",
      " 2   state   object \n",
      " 3   fips    float64\n",
      " 4   cases   int64  \n",
      " 5   deaths  float64\n",
      "dtypes: float64(2), int64(1), object(3)\n",
      "memory usage: 114.6+ MB\n"
     ]
    }
   ],
   "source": [
    "df.info()"
   ]
  },
  {
   "cell_type": "code",
   "execution_count": 32,
   "id": "4b438a96",
   "metadata": {},
   "outputs": [],
   "source": [
    "df['date'] = pd.to_datetime(df['date'])"
   ]
  },
  {
   "cell_type": "code",
   "execution_count": 33,
   "id": "a9231c38",
   "metadata": {},
   "outputs": [
    {
     "data": {
      "text/plain": [
       "Washington                   24215\n",
       "Unknown                      21401\n",
       "Jefferson                    20291\n",
       "Franklin                     19457\n",
       "Jackson                      18567\n",
       "                             ...  \n",
       "Esmeralda                      547\n",
       "Loving                         543\n",
       "Kalawao                        520\n",
       "Rota                           114\n",
       "Pending County Assignment        5\n",
       "Name: county, Length: 1932, dtype: int64"
      ]
     },
     "execution_count": 33,
     "metadata": {},
     "output_type": "execute_result"
    }
   ],
   "source": [
    "df['county'].value_counts()"
   ]
  },
  {
   "cell_type": "code",
   "execution_count": 42,
   "id": "c3ac4d18",
   "metadata": {},
   "outputs": [
    {
     "data": {
      "text/plain": [
       "Timestamp('2020-01-21 00:00:00')"
      ]
     },
     "execution_count": 42,
     "metadata": {},
     "output_type": "execute_result"
    }
   ],
   "source": [
    "min(df['date'])"
   ]
  },
  {
   "cell_type": "code",
   "execution_count": 35,
   "id": "5c2814d3",
   "metadata": {},
   "outputs": [
    {
     "data": {
      "text/plain": [
       "Timestamp('2022-05-13 00:00:00')"
      ]
     },
     "execution_count": 35,
     "metadata": {},
     "output_type": "execute_result"
    }
   ],
   "source": [
    "max(df['date'])"
   ]
  },
  {
   "cell_type": "code",
   "execution_count": 36,
   "id": "43a643a7",
   "metadata": {},
   "outputs": [
    {
     "data": {
      "text/html": [
       "<div>\n",
       "<style scoped>\n",
       "    .dataframe tbody tr th:only-of-type {\n",
       "        vertical-align: middle;\n",
       "    }\n",
       "\n",
       "    .dataframe tbody tr th {\n",
       "        vertical-align: top;\n",
       "    }\n",
       "\n",
       "    .dataframe thead th {\n",
       "        text-align: right;\n",
       "    }\n",
       "</style>\n",
       "<table border=\"1\" class=\"dataframe\">\n",
       "  <thead>\n",
       "    <tr style=\"text-align: right;\">\n",
       "      <th></th>\n",
       "      <th>date</th>\n",
       "      <th>county</th>\n",
       "      <th>state</th>\n",
       "      <th>fips</th>\n",
       "      <th>cases</th>\n",
       "      <th>deaths</th>\n",
       "    </tr>\n",
       "  </thead>\n",
       "  <tbody>\n",
       "    <tr>\n",
       "      <th>418</th>\n",
       "      <td>2020-03-01</td>\n",
       "      <td>Unknown</td>\n",
       "      <td>Rhode Island</td>\n",
       "      <td>NaN</td>\n",
       "      <td>2</td>\n",
       "      <td>0.0</td>\n",
       "    </tr>\n",
       "    <tr>\n",
       "      <th>450</th>\n",
       "      <td>2020-03-02</td>\n",
       "      <td>Unknown</td>\n",
       "      <td>Rhode Island</td>\n",
       "      <td>NaN</td>\n",
       "      <td>2</td>\n",
       "      <td>0.0</td>\n",
       "    </tr>\n",
       "    <tr>\n",
       "      <th>485</th>\n",
       "      <td>2020-03-03</td>\n",
       "      <td>Unknown</td>\n",
       "      <td>Rhode Island</td>\n",
       "      <td>NaN</td>\n",
       "      <td>2</td>\n",
       "      <td>0.0</td>\n",
       "    </tr>\n",
       "    <tr>\n",
       "      <th>522</th>\n",
       "      <td>2020-03-04</td>\n",
       "      <td>Unknown</td>\n",
       "      <td>Rhode Island</td>\n",
       "      <td>NaN</td>\n",
       "      <td>2</td>\n",
       "      <td>0.0</td>\n",
       "    </tr>\n",
       "    <tr>\n",
       "      <th>569</th>\n",
       "      <td>2020-03-05</td>\n",
       "      <td>Unknown</td>\n",
       "      <td>Rhode Island</td>\n",
       "      <td>NaN</td>\n",
       "      <td>2</td>\n",
       "      <td>0.0</td>\n",
       "    </tr>\n",
       "    <tr>\n",
       "      <th>...</th>\n",
       "      <td>...</td>\n",
       "      <td>...</td>\n",
       "      <td>...</td>\n",
       "      <td>...</td>\n",
       "      <td>...</td>\n",
       "      <td>...</td>\n",
       "    </tr>\n",
       "    <tr>\n",
       "      <th>2501996</th>\n",
       "      <td>2022-05-13</td>\n",
       "      <td>Unknown</td>\n",
       "      <td>Rhode Island</td>\n",
       "      <td>NaN</td>\n",
       "      <td>31231</td>\n",
       "      <td>17.0</td>\n",
       "    </tr>\n",
       "    <tr>\n",
       "      <th>2502197</th>\n",
       "      <td>2022-05-13</td>\n",
       "      <td>Unknown</td>\n",
       "      <td>Tennessee</td>\n",
       "      <td>NaN</td>\n",
       "      <td>19465</td>\n",
       "      <td>306.0</td>\n",
       "    </tr>\n",
       "    <tr>\n",
       "      <th>2502485</th>\n",
       "      <td>2022-05-13</td>\n",
       "      <td>Unknown</td>\n",
       "      <td>Utah</td>\n",
       "      <td>NaN</td>\n",
       "      <td>4044</td>\n",
       "      <td>92.0</td>\n",
       "    </tr>\n",
       "    <tr>\n",
       "      <th>2502502</th>\n",
       "      <td>2022-05-13</td>\n",
       "      <td>Unknown</td>\n",
       "      <td>Vermont</td>\n",
       "      <td>NaN</td>\n",
       "      <td>1496</td>\n",
       "      <td>2.0</td>\n",
       "    </tr>\n",
       "    <tr>\n",
       "      <th>2502676</th>\n",
       "      <td>2022-05-13</td>\n",
       "      <td>Unknown</td>\n",
       "      <td>Washington</td>\n",
       "      <td>NaN</td>\n",
       "      <td>3265</td>\n",
       "      <td>0.0</td>\n",
       "    </tr>\n",
       "  </tbody>\n",
       "</table>\n",
       "<p>21401 rows × 6 columns</p>\n",
       "</div>"
      ],
      "text/plain": [
       "              date   county         state  fips  cases  deaths\n",
       "418     2020-03-01  Unknown  Rhode Island   NaN      2     0.0\n",
       "450     2020-03-02  Unknown  Rhode Island   NaN      2     0.0\n",
       "485     2020-03-03  Unknown  Rhode Island   NaN      2     0.0\n",
       "522     2020-03-04  Unknown  Rhode Island   NaN      2     0.0\n",
       "569     2020-03-05  Unknown  Rhode Island   NaN      2     0.0\n",
       "...            ...      ...           ...   ...    ...     ...\n",
       "2501996 2022-05-13  Unknown  Rhode Island   NaN  31231    17.0\n",
       "2502197 2022-05-13  Unknown     Tennessee   NaN  19465   306.0\n",
       "2502485 2022-05-13  Unknown          Utah   NaN   4044    92.0\n",
       "2502502 2022-05-13  Unknown       Vermont   NaN   1496     2.0\n",
       "2502676 2022-05-13  Unknown    Washington   NaN   3265     0.0\n",
       "\n",
       "[21401 rows x 6 columns]"
      ]
     },
     "execution_count": 36,
     "metadata": {},
     "output_type": "execute_result"
    }
   ],
   "source": [
    "df[df['county'] == 'Unknown']"
   ]
  },
  {
   "cell_type": "code",
   "execution_count": 37,
   "id": "cee7cb49",
   "metadata": {},
   "outputs": [],
   "source": [
    "df = df.loc[(df['county'] != 'Unknown') & (df['fips'].notnull())].copy()"
   ]
  },
  {
   "cell_type": "code",
   "execution_count": 38,
   "id": "a65acf9b",
   "metadata": {},
   "outputs": [],
   "source": [
    "#check if partial string 'Eas' exists in conference column\n",
    "#df['fips'].str.contains(\"[A-Za-z]\").any()"
   ]
  },
  {
   "cell_type": "code",
   "execution_count": 43,
   "id": "a89be34a",
   "metadata": {},
   "outputs": [
    {
     "data": {
      "text/plain": [
       "0    53061\n",
       "1    53061\n",
       "2    53061\n",
       "3    17031\n",
       "4    53061\n",
       "Name: fips, dtype: object"
      ]
     },
     "execution_count": 43,
     "metadata": {},
     "output_type": "execute_result"
    }
   ],
   "source": [
    "df['fips'].head()"
   ]
  },
  {
   "cell_type": "code",
   "execution_count": 44,
   "id": "c7effc01",
   "metadata": {},
   "outputs": [],
   "source": [
    "df['fips'] = df['fips'].astype(str).str.extract('(^[^/.]*).*', expand=False).str.zfill(5)"
   ]
  },
  {
   "cell_type": "code",
   "execution_count": 45,
   "id": "ae7c3db3",
   "metadata": {},
   "outputs": [
    {
     "data": {
      "text/html": [
       "<div>\n",
       "<style scoped>\n",
       "    .dataframe tbody tr th:only-of-type {\n",
       "        vertical-align: middle;\n",
       "    }\n",
       "\n",
       "    .dataframe tbody tr th {\n",
       "        vertical-align: top;\n",
       "    }\n",
       "\n",
       "    .dataframe thead th {\n",
       "        text-align: right;\n",
       "    }\n",
       "</style>\n",
       "<table border=\"1\" class=\"dataframe\">\n",
       "  <thead>\n",
       "    <tr style=\"text-align: right;\">\n",
       "      <th></th>\n",
       "      <th>date</th>\n",
       "      <th>county</th>\n",
       "      <th>state</th>\n",
       "      <th>fips</th>\n",
       "      <th>cases</th>\n",
       "      <th>deaths</th>\n",
       "    </tr>\n",
       "  </thead>\n",
       "  <tbody>\n",
       "    <tr>\n",
       "      <th>0</th>\n",
       "      <td>2020-01-21</td>\n",
       "      <td>Snohomish</td>\n",
       "      <td>Washington</td>\n",
       "      <td>53061</td>\n",
       "      <td>1</td>\n",
       "      <td>0.0</td>\n",
       "    </tr>\n",
       "    <tr>\n",
       "      <th>1</th>\n",
       "      <td>2020-01-22</td>\n",
       "      <td>Snohomish</td>\n",
       "      <td>Washington</td>\n",
       "      <td>53061</td>\n",
       "      <td>1</td>\n",
       "      <td>0.0</td>\n",
       "    </tr>\n",
       "    <tr>\n",
       "      <th>2</th>\n",
       "      <td>2020-01-23</td>\n",
       "      <td>Snohomish</td>\n",
       "      <td>Washington</td>\n",
       "      <td>53061</td>\n",
       "      <td>1</td>\n",
       "      <td>0.0</td>\n",
       "    </tr>\n",
       "    <tr>\n",
       "      <th>3</th>\n",
       "      <td>2020-01-24</td>\n",
       "      <td>Cook</td>\n",
       "      <td>Illinois</td>\n",
       "      <td>17031</td>\n",
       "      <td>1</td>\n",
       "      <td>0.0</td>\n",
       "    </tr>\n",
       "    <tr>\n",
       "      <th>4</th>\n",
       "      <td>2020-01-24</td>\n",
       "      <td>Snohomish</td>\n",
       "      <td>Washington</td>\n",
       "      <td>53061</td>\n",
       "      <td>1</td>\n",
       "      <td>0.0</td>\n",
       "    </tr>\n",
       "  </tbody>\n",
       "</table>\n",
       "</div>"
      ],
      "text/plain": [
       "        date     county       state   fips  cases  deaths\n",
       "0 2020-01-21  Snohomish  Washington  53061      1     0.0\n",
       "1 2020-01-22  Snohomish  Washington  53061      1     0.0\n",
       "2 2020-01-23  Snohomish  Washington  53061      1     0.0\n",
       "3 2020-01-24       Cook    Illinois  17031      1     0.0\n",
       "4 2020-01-24  Snohomish  Washington  53061      1     0.0"
      ]
     },
     "execution_count": 45,
     "metadata": {},
     "output_type": "execute_result"
    }
   ],
   "source": [
    "df.head()"
   ]
  },
  {
   "cell_type": "code",
   "execution_count": 46,
   "id": "59db9ab4",
   "metadata": {},
   "outputs": [
    {
     "data": {
      "text/html": [
       "<div>\n",
       "<style scoped>\n",
       "    .dataframe tbody tr th:only-of-type {\n",
       "        vertical-align: middle;\n",
       "    }\n",
       "\n",
       "    .dataframe tbody tr th {\n",
       "        vertical-align: top;\n",
       "    }\n",
       "\n",
       "    .dataframe thead th {\n",
       "        text-align: right;\n",
       "    }\n",
       "</style>\n",
       "<table border=\"1\" class=\"dataframe\">\n",
       "  <thead>\n",
       "    <tr style=\"text-align: right;\">\n",
       "      <th></th>\n",
       "      <th>date</th>\n",
       "      <th>county</th>\n",
       "      <th>state</th>\n",
       "      <th>fips</th>\n",
       "      <th>cases</th>\n",
       "      <th>deaths</th>\n",
       "    </tr>\n",
       "  </thead>\n",
       "  <tbody>\n",
       "    <tr>\n",
       "      <th>394</th>\n",
       "      <td>2020-02-29</td>\n",
       "      <td>King</td>\n",
       "      <td>Washington</td>\n",
       "      <td>53033</td>\n",
       "      <td>4</td>\n",
       "      <td>1.0</td>\n",
       "    </tr>\n",
       "    <tr>\n",
       "      <th>501</th>\n",
       "      <td>2020-03-04</td>\n",
       "      <td>Placer</td>\n",
       "      <td>California</td>\n",
       "      <td>06061</td>\n",
       "      <td>2</td>\n",
       "      <td>1.0</td>\n",
       "    </tr>\n",
       "    <tr>\n",
       "      <th>540</th>\n",
       "      <td>2020-03-05</td>\n",
       "      <td>Placer</td>\n",
       "      <td>California</td>\n",
       "      <td>06061</td>\n",
       "      <td>2</td>\n",
       "      <td>1.0</td>\n",
       "    </tr>\n",
       "    <tr>\n",
       "      <th>590</th>\n",
       "      <td>2020-03-06</td>\n",
       "      <td>Placer</td>\n",
       "      <td>California</td>\n",
       "      <td>06061</td>\n",
       "      <td>5</td>\n",
       "      <td>1.0</td>\n",
       "    </tr>\n",
       "    <tr>\n",
       "      <th>606</th>\n",
       "      <td>2020-03-06</td>\n",
       "      <td>Lee</td>\n",
       "      <td>Florida</td>\n",
       "      <td>12071</td>\n",
       "      <td>1</td>\n",
       "      <td>1.0</td>\n",
       "    </tr>\n",
       "  </tbody>\n",
       "</table>\n",
       "</div>"
      ],
      "text/plain": [
       "          date  county       state   fips  cases  deaths\n",
       "394 2020-02-29    King  Washington  53033      4     1.0\n",
       "501 2020-03-04  Placer  California  06061      2     1.0\n",
       "540 2020-03-05  Placer  California  06061      2     1.0\n",
       "590 2020-03-06  Placer  California  06061      5     1.0\n",
       "606 2020-03-06     Lee     Florida  12071      1     1.0"
      ]
     },
     "execution_count": 46,
     "metadata": {},
     "output_type": "execute_result"
    }
   ],
   "source": [
    "df[df['deaths'] == 1].head()"
   ]
  },
  {
   "cell_type": "code",
   "execution_count": 114,
   "id": "32f7f187",
   "metadata": {},
   "outputs": [],
   "source": [
    "df = df[df['fips'].str.slice(0,2) <= '56'].copy()\n",
    "df['deaths'] = df['deaths'].astype(int)"
   ]
  },
  {
   "cell_type": "code",
   "execution_count": 50,
   "id": "c407bb5d",
   "metadata": {},
   "outputs": [
    {
     "data": {
      "text/plain": [
       "False"
      ]
     },
     "execution_count": 50,
     "metadata": {},
     "output_type": "execute_result"
    }
   ],
   "source": [
    "# cases_vs_deaths\n",
    "\"\"\"Checks that death count is no more than case count.\"\"\"\n",
    "(df['deaths'] <= df['cases']).all()"
   ]
  },
  {
   "cell_type": "code",
   "execution_count": 133,
   "id": "b7f8aea1",
   "metadata": {},
   "outputs": [
    {
     "data": {
      "text/plain": [
       "False"
      ]
     },
     "execution_count": 133,
     "metadata": {},
     "output_type": "execute_result"
    }
   ],
   "source": [
    "# unique_records\n",
    "\"\"\"Checks that each date and FIPs combination is unique.\"\"\"\n",
    "df[['date', 'fips']].drop_duplicates().shape[0] == df.shape[0]"
   ]
  },
  {
   "cell_type": "code",
   "execution_count": 134,
   "id": "b834312b",
   "metadata": {},
   "outputs": [
    {
     "data": {
      "text/plain": [
       "True"
      ]
     },
     "execution_count": 134,
     "metadata": {},
     "output_type": "execute_result"
    }
   ],
   "source": [
    "# no_nulls_test\n",
    "\"\"\"Checks that each date and FIPs combination is unique.\"\"\"\n",
    "df.isnull().values.sum() == 0"
   ]
  },
  {
   "cell_type": "code",
   "execution_count": 136,
   "id": "2ff4274c",
   "metadata": {},
   "outputs": [],
   "source": [
    "def range_test(series, min, max):\n",
    "    \"\"\"Checks that all values in a series are within a range, inclusive\"\"\"\n",
    "    return (series >= min).all() and (series <= max).all() "
   ]
  },
  {
   "cell_type": "code",
   "execution_count": 139,
   "id": "cc3cb07a",
   "metadata": {},
   "outputs": [
    {
     "data": {
      "text/plain": [
       "True"
      ]
     },
     "execution_count": 139,
     "metadata": {},
     "output_type": "execute_result"
    }
   ],
   "source": [
    "# cases_range_test\n",
    "\"\"\"Checks that all cases are non-negative and <= 10M\"\"\"\n",
    "\n",
    "range_test(df['cases'], 0, 10e6)"
   ]
  },
  {
   "cell_type": "code",
   "execution_count": 140,
   "id": "8d81641b",
   "metadata": {},
   "outputs": [
    {
     "data": {
      "text/plain": [
       "True"
      ]
     },
     "execution_count": 140,
     "metadata": {},
     "output_type": "execute_result"
    }
   ],
   "source": [
    "# deaths_range_test(df):\n",
    "\"\"\"Checks that all deaths are non-negative and <= 100K\"\"\"\n",
    "\n",
    "range_test(df['deaths'], 0, 1e5)"
   ]
  },
  {
   "cell_type": "code",
   "execution_count": 143,
   "id": "02437ade",
   "metadata": {},
   "outputs": [],
   "source": [
    "def cases_vs_deaths(df):\n",
    "    \"\"\"Checks that death count is no more than case count.\"\"\"\n",
    "    return (df['deaths'] <= df['cases']).all()\n",
    "\n",
    "\n",
    "def unique_records(df):\n",
    "    \"\"\"Checks that each date and FIPs combination is unique.\"\"\"\n",
    "    return df[['date', 'fips']].drop_duplicates().shape[0] == df.shape[0]\n",
    "\n",
    "\n",
    "def no_nulls_test(df):\n",
    "    \"\"\"Checks that all elements are not null\"\"\"\n",
    "    return df.isnull().values.sum() == 0\n",
    "\n",
    "\n",
    "def range_test(series, min, max):\n",
    "    \"\"\"Checks that all values in a series are within a range, inclusive\"\"\"\n",
    "    return (series >= min).all() and (series <= max).all() \n",
    "\n",
    "\n",
    "def cases_range_test(df):\n",
    "    \"\"\"Checks that all cases are non-negative and <= 10M\"\"\"\n",
    "    return range_test(df['cases'], 0, 10e6)\n",
    "\n",
    "\n",
    "def deaths_range_test(df):\n",
    "    \"\"\"Checks that all deaths are non-negative and <= 100K\"\"\"\n",
    "    return range_test(df['deaths'], 0, 1e5)"
   ]
  },
  {
   "cell_type": "code",
   "execution_count": 144,
   "id": "b6fe8eb9",
   "metadata": {},
   "outputs": [],
   "source": [
    "nyt_cases_counties = [\n",
    "    (cases_vs_deaths, \"Death counts cannot exceed case counts.\"),\n",
    "    (unique_records, \"Only one record per FIPs, per date allowed.\"),\n",
    "    (no_nulls_test, \"All values are expected to be non-null.\"),\n",
    "    (cases_range_test, \"Cases must be non-negative and <= 10M.\"),\n",
    "    (deaths_range_test, \"Deaths must be non-negative and <= 100K.\")\n",
    "]"
   ]
  },
  {
   "cell_type": "code",
   "execution_count": 145,
   "id": "8aa61fda",
   "metadata": {},
   "outputs": [
    {
     "data": {
      "text/plain": [
       "[(<function __main__.cases_vs_deaths(df)>,\n",
       "  'Death counts cannot exceed case counts.'),\n",
       " (<function __main__.unique_records(df)>,\n",
       "  'Only one record per FIPs, per date allowed.'),\n",
       " (<function __main__.no_nulls_test(df)>,\n",
       "  'All values are expected to be non-null.'),\n",
       " (<function __main__.cases_range_test(df)>,\n",
       "  'Cases must be non-negative and <= 10M.'),\n",
       " (<function __main__.deaths_range_test(df)>,\n",
       "  'Deaths must be non-negative and <= 100K.')]"
      ]
     },
     "execution_count": 145,
     "metadata": {},
     "output_type": "execute_result"
    }
   ],
   "source": [
    "nyt_cases_counties"
   ]
  },
  {
   "cell_type": "code",
   "execution_count": 146,
   "id": "438fc949",
   "metadata": {},
   "outputs": [
    {
     "data": {
      "text/html": [
       "<div>\n",
       "<style scoped>\n",
       "    .dataframe tbody tr th:only-of-type {\n",
       "        vertical-align: middle;\n",
       "    }\n",
       "\n",
       "    .dataframe tbody tr th {\n",
       "        vertical-align: top;\n",
       "    }\n",
       "\n",
       "    .dataframe thead th {\n",
       "        text-align: right;\n",
       "    }\n",
       "</style>\n",
       "<table border=\"1\" class=\"dataframe\">\n",
       "  <thead>\n",
       "    <tr style=\"text-align: right;\">\n",
       "      <th></th>\n",
       "      <th>date</th>\n",
       "      <th>county</th>\n",
       "      <th>state</th>\n",
       "      <th>fips</th>\n",
       "      <th>cases</th>\n",
       "      <th>deaths</th>\n",
       "    </tr>\n",
       "  </thead>\n",
       "  <tbody>\n",
       "    <tr>\n",
       "      <th>0</th>\n",
       "      <td>2020-01-21</td>\n",
       "      <td>Snohomish</td>\n",
       "      <td>Washington</td>\n",
       "      <td>53061</td>\n",
       "      <td>1</td>\n",
       "      <td>0</td>\n",
       "    </tr>\n",
       "    <tr>\n",
       "      <th>1</th>\n",
       "      <td>2020-01-22</td>\n",
       "      <td>Snohomish</td>\n",
       "      <td>Washington</td>\n",
       "      <td>53061</td>\n",
       "      <td>1</td>\n",
       "      <td>0</td>\n",
       "    </tr>\n",
       "    <tr>\n",
       "      <th>2</th>\n",
       "      <td>2020-01-23</td>\n",
       "      <td>Snohomish</td>\n",
       "      <td>Washington</td>\n",
       "      <td>53061</td>\n",
       "      <td>1</td>\n",
       "      <td>0</td>\n",
       "    </tr>\n",
       "    <tr>\n",
       "      <th>3</th>\n",
       "      <td>2020-01-24</td>\n",
       "      <td>Cook</td>\n",
       "      <td>Illinois</td>\n",
       "      <td>17031</td>\n",
       "      <td>1</td>\n",
       "      <td>0</td>\n",
       "    </tr>\n",
       "    <tr>\n",
       "      <th>4</th>\n",
       "      <td>2020-01-24</td>\n",
       "      <td>Snohomish</td>\n",
       "      <td>Washington</td>\n",
       "      <td>53061</td>\n",
       "      <td>1</td>\n",
       "      <td>0</td>\n",
       "    </tr>\n",
       "  </tbody>\n",
       "</table>\n",
       "</div>"
      ],
      "text/plain": [
       "        date     county       state   fips  cases  deaths\n",
       "0 2020-01-21  Snohomish  Washington  53061      1       0\n",
       "1 2020-01-22  Snohomish  Washington  53061      1       0\n",
       "2 2020-01-23  Snohomish  Washington  53061      1       0\n",
       "3 2020-01-24       Cook    Illinois  17031      1       0\n",
       "4 2020-01-24  Snohomish  Washington  53061      1       0"
      ]
     },
     "execution_count": 146,
     "metadata": {},
     "output_type": "execute_result"
    }
   ],
   "source": [
    "df.head()"
   ]
  },
  {
   "cell_type": "code",
   "execution_count": 150,
   "id": "849569cd",
   "metadata": {},
   "outputs": [
    {
     "data": {
      "text/plain": [
       "'nyt_cases_counties'"
      ]
     },
     "execution_count": 150,
     "metadata": {},
     "output_type": "execute_result"
    }
   ],
   "source": [
    "tests = options['name']\n",
    "tests"
   ]
  },
  {
   "cell_type": "code",
   "execution_count": 162,
   "id": "ff9e48b1",
   "metadata": {},
   "outputs": [
    {
     "name": "stderr",
     "output_type": "stream",
     "text": [
      "2023-05-20 18:21:48 __main__ ERROR    Data test cases_vs_deaths failed. Death counts cannot exceed case counts.\n"
     ]
    },
    {
     "name": "stdout",
     "output_type": "stream",
     "text": [
      "<function cases_vs_deaths at 0x7fcf237513a0> -> Death counts cannot exceed case counts.\n",
      "False\n",
      "<function unique_records at 0x7fcf23751040> -> Only one record per FIPs, per date allowed.\n"
     ]
    },
    {
     "name": "stderr",
     "output_type": "stream",
     "text": [
      "2023-05-20 18:21:49 __main__ ERROR    Data test unique_records failed. Only one record per FIPs, per date allowed.\n"
     ]
    },
    {
     "name": "stdout",
     "output_type": "stream",
     "text": [
      "False\n",
      "<function no_nulls_test at 0x7fcf237511f0> -> All values are expected to be non-null.\n"
     ]
    },
    {
     "name": "stderr",
     "output_type": "stream",
     "text": [
      "2023-05-20 18:21:50 __main__ INFO     Data test no_nulls_test passed.\n",
      "2023-05-20 18:21:50 __main__ INFO     Data test cases_range_test passed.\n",
      "2023-05-20 18:21:50 __main__ INFO     Data test deaths_range_test passed.\n"
     ]
    },
    {
     "name": "stdout",
     "output_type": "stream",
     "text": [
      "True\n",
      "<function cases_range_test at 0x7fcf23751940> -> Cases must be non-negative and <= 10M.\n",
      "True\n",
      "<function deaths_range_test at 0x7fcf237518b0> -> Deaths must be non-negative and <= 100K.\n",
      "True\n"
     ]
    }
   ],
   "source": [
    "results = []\n",
    "for test_func, failure_message in nyt_cases_counties:\n",
    "    print(test_func,\"->\",failure_message)\n",
    "    results.append(test_func(df.copy()))\n",
    "    print(results[-1])\n",
    "    if results[-1]:\n",
    "        logger.info(f'Data test {test_func.__name__} passed.')\n",
    "    else:\n",
    "         logger.error(f'Data test {test_func.__name__} failed. {failure_message}')"
   ]
  },
  {
   "cell_type": "code",
   "execution_count": 160,
   "id": "7b68a0e7",
   "metadata": {},
   "outputs": [
    {
     "data": {
      "text/plain": [
       "True"
      ]
     },
     "execution_count": 160,
     "metadata": {},
     "output_type": "execute_result"
    }
   ],
   "source": [
    "results[-1]"
   ]
  },
  {
   "cell_type": "code",
   "execution_count": 163,
   "id": "fef4c896",
   "metadata": {},
   "outputs": [],
   "source": [
    "# LOAD data "
   ]
  },
  {
   "cell_type": "code",
   "execution_count": null,
   "id": "72d723a4",
   "metadata": {},
   "outputs": [],
   "source": [
    "logger.info(f\"Loading data to bit.io...\")"
   ]
  }
 ],
 "metadata": {
  "kernelspec": {
   "display_name": "Python 3 (ipykernel)",
   "language": "python",
   "name": "python3"
  },
  "language_info": {
   "codemirror_mode": {
    "name": "ipython",
    "version": 3
   },
   "file_extension": ".py",
   "mimetype": "text/x-python",
   "name": "python",
   "nbconvert_exporter": "python",
   "pygments_lexer": "ipython3",
   "version": "3.9.13"
  }
 },
 "nbformat": 4,
 "nbformat_minor": 5
}
